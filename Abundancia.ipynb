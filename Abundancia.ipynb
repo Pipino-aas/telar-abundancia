{
 "cells": [
  {
   "cell_type": "code",
   "execution_count": 1,
   "metadata": {},
   "outputs": [],
   "source": [
    "import numpy as np\n",
    "from scipy.stats import truncnorm\n",
    "import matplotlib.pyplot as plt\n",
    "import pandas as pd"
   ]
  },
  {
   "cell_type": "code",
   "execution_count": 2,
   "metadata": {},
   "outputs": [],
   "source": [
    "### definimos una clase jugador\n",
    "## vamos a suponer que cada jugador conoce un numero al azar de jugadores entre 1 y 200\n",
    "## (se podría mejorar armandolo con un grafo)\n",
    "## vamos a suponer que cada jugador tiene un parámetro de desconfianza\n",
    "class jugador():\n",
    "    def __init__(self,dinero,min_conocidos = 1,max_conocidos = 200):\n",
    "        self.dinero = dinero\n",
    "        self.numero_de_conocidos = np.random.randint(1,max_conocidos+1) \n",
    "        mu = 0.5 ## media de la desconfianza\n",
    "        sig = 0.3 ## desvío de las desconfianza\n",
    "        self.desconfianza = 1 - truncnorm.rvs((0 - mu) / sig, (1 - mu) / sig, loc=mu, scale=sig)\n",
    "    def get_estado(self):\n",
    "        return(self.dinero)\n",
    "    def get_numero_conocidos(self):\n",
    "        return(self.numero_de_conocidos)\n",
    "    def get_desconfianza(self):\n",
    "        return self.desconfianza\n",
    "    def transferir(self,otro_jugador,monto):\n",
    "        self.dinero -= monto\n",
    "        otro_jugador.dinero += monto"
   ]
  },
  {
   "cell_type": "markdown",
   "metadata": {},
   "source": [
    "Por simplicidad vamos a suponer que hay N jugadores que empiezan con 1000 pesos cada uno. Si un jugador se queda sin dinero, no puede seguir jugando. "
   ]
  },
  {
   "cell_type": "code",
   "execution_count": null,
   "metadata": {},
   "outputs": [],
   "source": []
  },
  {
   "cell_type": "code",
   "execution_count": 3,
   "metadata": {},
   "outputs": [],
   "source": [
    "dinero_inicial = 100 #con cuanta plata arranca cada jugador\n",
    "N = 1000 #Numero de jugadores\n",
    "selectores_iniciales = 1 ## numero de jugadores que comienzan con el juego.\n",
    "tamanio_grupo= 8 ## numero de jugadores necesarios para que se mueva plata\n",
    "transferencia = 10 ## plata que transfieren\n",
    "\n",
    "pool_jugadores = [jugador(dinero_inicial) for i in range(N)] ## pool inicial de jugadores\n",
    "iniciadores = list(np.random.choice(pool_jugadores,selectores_iniciales))\n",
    "salidos = []\n",
    "nuevos_iniciadores = []"
   ]
  },
  {
   "cell_type": "code",
   "execution_count": 4,
   "metadata": {},
   "outputs": [],
   "source": [
    "np.random.seed(123)"
   ]
  },
  {
   "cell_type": "code",
   "execution_count": 5,
   "metadata": {},
   "outputs": [
    {
     "name": "stdout",
     "output_type": "stream",
     "text": [
      "jugadores que son iniciadores:  9\n",
      "jugadores que aun tienen algo de dinero:  1000\n",
      "jugadores que son iniciadores:  77\n",
      "jugadores que aun tienen algo de dinero:  1000\n",
      "jugadores que son iniciadores:  491\n",
      "jugadores que aun tienen algo de dinero:  997\n",
      "jugadores que son iniciadores:  730\n",
      "jugadores que aun tienen algo de dinero:  745\n",
      "jugadores que son iniciadores:  0\n",
      "jugadores que aun tienen algo de dinero:  15\n",
      "MURIO\n"
     ]
    }
   ],
   "source": [
    "for PRUEBA in range(100):\n",
    "    for iniciador in iniciadores:\n",
    "         ## solo toma no iniciadores con plata\n",
    "        posibles_victimas_iniciador = [x for x in pool_jugadores if x not in iniciadores and x.get_estado() >= 10]\n",
    "        if len(posibles_victimas_iniciador) <= 0:\n",
    "            salidos.append(iniciador) ## retiro el iniciador si no consigue victimas\n",
    "            continue\n",
    "        else:\n",
    "            posibles_victimas_iniciador_seleccionadas = np.random.choice(posibles_victimas_iniciador,min(len(posibles_victimas_iniciador),iniciador.get_numero_conocidos()),replace=False)\n",
    "    ## ahora, para seleccionar. \n",
    "    ## Supongamos que la aceptación o no viene de una bernoulli con probabilidad = 1 - desconfianza\n",
    "    ## esto es general pero se podría hacer con un grafo con las aristas pesadas por confianza\n",
    "    ## vamos a pasar por todos los conocidos. Si llega a 8 se corta\n",
    "    ## si no llega a 8, se frustra y no juega mas\n",
    "\n",
    "        victimas = []\n",
    "        for victima in posibles_victimas_iniciador_seleccionadas:\n",
    "            if np.random.binomial(1,victima.get_desconfianza()):\n",
    "                victimas.append(victima)\n",
    "            if len(victimas) == tamanio_grupo:\n",
    "                break\n",
    "\n",
    "        ## ahora, si completó el grupo, cada uno le pasa $10 al jugador. \n",
    "        ## Luego se convierte en iniciador\n",
    "        if len(victimas) == tamanio_grupo:\n",
    "            for victima in victimas:\n",
    "                victima.transferir(iniciador,transferencia)\n",
    "                ## si le queda dinero, la agregamos a la lista. Si no, pierde y se va\n",
    "                if victima.get_estado() > 0:\n",
    "                    nuevos_iniciadores.append(victima)\n",
    "                else: ## si no le queda dinero, sale del juego\n",
    "                    salidos.append(victima)\n",
    "        else: \n",
    "            salidos.append(iniciador)\n",
    "            continue\n",
    "\n",
    "    iniciadores += nuevos_iniciadores\n",
    "    iniciadores = list(set(iniciadores))\n",
    "    for salido in salidos:\n",
    "        if salido in iniciadores:\n",
    "            iniciadores.remove(salido)\n",
    "        if salido in pool_jugadores:\n",
    "            pool_jugadores.remove(salido)\n",
    "    \n",
    "    print(\"jugadores que son iniciadores: \",len(iniciadores))\n",
    "    print(\"jugadores que aun tienen algo de dinero: \", len(pool_jugadores))\n",
    "    if (len(iniciadores) == 0) | (len(pool_jugadores) == 0):\n",
    "        print(\"MURIO\")\n",
    "        break"
   ]
  },
  {
   "cell_type": "code",
   "execution_count": 6,
   "metadata": {},
   "outputs": [
    {
     "data": {
      "text/plain": [
       "[0.0, 1.0)      19.898477\n",
       "[1.0, 100.0)    35.634518\n",
       "[100.0, inf)    44.467005\n",
       "dtype: float64"
      ]
     },
     "execution_count": 6,
     "metadata": {},
     "output_type": "execute_result"
    }
   ],
   "source": [
    "## veamos los que jugaron\n",
    "plata_afuera = [x.get_estado() for x in salidos]\n",
    "grupos = pd.cut(plata_afuera,[0,1,100,np.inf],right=False).value_counts()\n",
    "grupos / grupos.sum()*100"
   ]
  }
 ],
 "metadata": {
  "kernelspec": {
   "display_name": "Python 3",
   "language": "python",
   "name": "python3"
  },
  "language_info": {
   "codemirror_mode": {
    "name": "ipython",
    "version": 3
   },
   "file_extension": ".py",
   "mimetype": "text/x-python",
   "name": "python",
   "nbconvert_exporter": "python",
   "pygments_lexer": "ipython3",
   "version": "3.6.7"
  }
 },
 "nbformat": 4,
 "nbformat_minor": 2
}
